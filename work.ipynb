{
 "cells": [
  {
   "cell_type": "code",
   "execution_count": 1,
   "metadata": {},
   "outputs": [],
   "source": [
    "import cv2\n",
    "import torch\n",
    "import ipywidgets as widgets\n",
    "from IPython.display import display\n",
    "from io import BytesIO\n",
    "from PIL import Image\n",
    "from ultralytics import YOLO\n",
    "import numpy as np"
   ]
  },
  {
   "cell_type": "code",
   "execution_count": 2,
   "metadata": {},
   "outputs": [],
   "source": [
    "# Загрузка обученной модели\n",
    "model = YOLO('runs\\\\detect\\\\train\\\\weights\\\\best.pt')"
   ]
  },
  {
   "cell_type": "code",
   "execution_count": 3,
   "metadata": {},
   "outputs": [
    {
     "name": "stderr",
     "output_type": "stream",
     "text": [
      "d:\\рабочий стол\\GB\\YOLO\\venv\\Lib\\site-packages\\torch\\cuda\\__init__.py:141: UserWarning: CUDA initialization: The NVIDIA driver on your system is too old (found version 9010). Please update your GPU driver by downloading and installing a new version from the URL: http://www.nvidia.com/Download/index.aspx Alternatively, go to: https://pytorch.org to install a PyTorch version that has been compiled with your version of the CUDA driver. (Triggered internally at ..\\c10\\cuda\\CUDAFunctions.cpp:108.)\n",
      "  return torch._C._cuda_getDeviceCount() > 0\n"
     ]
    },
    {
     "name": "stdout",
     "output_type": "stream",
     "text": [
      "\n",
      "image 1/1 d:\\ \\GB\\YOLO\\2612680.jpg: 640x480 1 Person, 1 Truck, 5097.0ms\n",
      "Speed: 263.0ms preprocess, 5097.0ms inference, 34692.9ms postprocess per image at shape (1, 3, 640, 480)\n"
     ]
    }
   ],
   "source": [
    "results = model('2612680.jpg')"
   ]
  },
  {
   "cell_type": "code",
   "execution_count": 17,
   "metadata": {},
   "outputs": [
    {
     "name": "stdout",
     "output_type": "stream",
     "text": [
      "YOLOv5s summary (fused): 193 layers, 9113471 parameters, 0 gradients, 23.8 GFLOPs\n"
     ]
    },
    {
     "data": {
      "text/plain": [
       "(193, 9113471, 0, 23.836620800000002)"
      ]
     },
     "execution_count": 17,
     "metadata": {},
     "output_type": "execute_result"
    }
   ],
   "source": [
    "model.info()"
   ]
  },
  {
   "cell_type": "code",
   "execution_count": 18,
   "metadata": {},
   "outputs": [
    {
     "name": "stdout",
     "output_type": "stream",
     "text": [
      "Ultralytics YOLOv8.1.45  Python-3.11.2 torch-2.2.2+cu118 CPU (Intel Core(TM) i5-2410M 2.30GHz)\n"
     ]
    },
    {
     "name": "stderr",
     "output_type": "stream",
     "text": [
      "\u001b[34m\u001b[1mval: \u001b[0mScanning D:\\рабочий стол\\GB\\YOLO\\YOLO_dataset\\validation\\labels.cache... 9 images, 0 backgrounds, 0 corrupt: 100%|██████████| 9/9 [00:00<?, ?it/s]\n",
      "                 Class     Images  Instances      Box(P          R      mAP50  mAP50-95): 100%|██████████| 1/1 [00:12<00:00, 12.95s/it]\n"
     ]
    },
    {
     "name": "stdout",
     "output_type": "stream",
     "text": [
      "                   all          9         38      0.714      0.588      0.597      0.467\n",
      "                Person          9         15       0.66        0.6      0.709      0.455\n",
      "                   Car          9          8      0.539          1      0.815      0.754\n",
      "             Motorbike          9          4      0.797          1      0.995      0.731\n",
      "                   Bus          9          3          1          0   0.000402   0.000241\n",
      "                 Truck          9          8      0.573      0.342      0.464      0.395\n",
      "Speed: 11.4ms preprocess, 1158.3ms inference, 0.0ms loss, 107.1ms postprocess per image\n",
      "Results saved to \u001b[1mruns\\detect\\val2\u001b[0m\n"
     ]
    },
    {
     "data": {
      "text/plain": [
       "array([      0.455,      0.7545,     0.73051,  0.00024104,     0.39527])"
      ]
     },
     "execution_count": 18,
     "metadata": {},
     "output_type": "execute_result"
    }
   ],
   "source": [
    "metrics = model.val()\n",
    "metrics.box.map\n",
    "metrics.box.map50\n",
    "metrics.box.map75\n",
    "metrics.box.maps"
   ]
  },
  {
   "cell_type": "code",
   "execution_count": 19,
   "metadata": {},
   "outputs": [
    {
     "name": "stdout",
     "output_type": "stream",
     "text": [
      "\n",
      "image 1/1 d:\\ \\GB\\YOLO\\2612680.jpg: 640x480 1 Person, 1 Truck, 1051.0ms\n",
      "Speed: 11.0ms preprocess, 1051.0ms inference, 3.0ms postprocess per image at shape (1, 3, 640, 480)\n"
     ]
    }
   ],
   "source": [
    "result = model('2612680.jpg')"
   ]
  },
  {
   "cell_type": "code",
   "execution_count": 12,
   "metadata": {},
   "outputs": [
    {
     "name": "stdout",
     "output_type": "stream",
     "text": [
      "\n",
      "image 1/1 d:\\ \\GB\\YOLO\\2612680.jpg: 640x480 1 Person, 1 Truck, 1438.0ms\n",
      "Speed: 9.0ms preprocess, 1438.0ms inference, 3.0ms postprocess per image at shape (1, 3, 640, 480)\n",
      "Results saved to \u001b[1mruns\\detect\\predict\u001b[0m\n"
     ]
    },
    {
     "data": {
      "text/plain": [
       "[ultralytics.engine.results.Results object with attributes:\n",
       " \n",
       " boxes: ultralytics.engine.results.Boxes object\n",
       " keypoints: None\n",
       " masks: None\n",
       " names: {0: 'Person', 1: 'Car', 2: 'Motorbike', 3: 'Bus', 4: 'Truck'}\n",
       " obb: None\n",
       " orig_img: array([[[253, 255, 255],\n",
       "         [253, 255, 255],\n",
       "         [253, 255, 255],\n",
       "         ...,\n",
       "         [253, 255, 255],\n",
       "         [253, 255, 255],\n",
       "         [253, 255, 255]],\n",
       " \n",
       "        [[253, 255, 255],\n",
       "         [253, 255, 255],\n",
       "         [253, 255, 255],\n",
       "         ...,\n",
       "         [253, 255, 255],\n",
       "         [253, 255, 255],\n",
       "         [253, 255, 255]],\n",
       " \n",
       "        [[253, 255, 255],\n",
       "         [253, 255, 255],\n",
       "         [253, 255, 255],\n",
       "         ...,\n",
       "         [253, 255, 255],\n",
       "         [253, 255, 255],\n",
       "         [253, 255, 255]],\n",
       " \n",
       "        ...,\n",
       " \n",
       "        [[253, 255, 255],\n",
       "         [253, 255, 255],\n",
       "         [253, 255, 255],\n",
       "         ...,\n",
       "         [253, 255, 255],\n",
       "         [253, 255, 255],\n",
       "         [253, 255, 255]],\n",
       " \n",
       "        [[253, 255, 255],\n",
       "         [253, 255, 255],\n",
       "         [253, 255, 255],\n",
       "         ...,\n",
       "         [253, 255, 255],\n",
       "         [253, 255, 255],\n",
       "         [253, 255, 255]],\n",
       " \n",
       "        [[253, 255, 255],\n",
       "         [253, 255, 255],\n",
       "         [253, 255, 255],\n",
       "         ...,\n",
       "         [253, 255, 255],\n",
       "         [253, 255, 255],\n",
       "         [253, 255, 255]]], dtype=uint8)\n",
       " orig_shape: (328, 246)\n",
       " path: 'd:\\\\рабочий стол\\\\GB\\\\YOLO\\\\2612680.jpg'\n",
       " probs: None\n",
       " save_dir: 'runs\\\\detect\\\\predict'\n",
       " speed: {'preprocess': 9.004831314086914, 'inference': 1437.9918575286865, 'postprocess': 2.9985904693603516}]"
      ]
     },
     "execution_count": 12,
     "metadata": {},
     "output_type": "execute_result"
    }
   ],
   "source": [
    "model.predict('2612680.jpg', save=True)"
   ]
  },
  {
   "cell_type": "code",
   "execution_count": 28,
   "metadata": {},
   "outputs": [
    {
     "name": "stdout",
     "output_type": "stream",
     "text": [
      "\n",
      "image 1/1 d:\\ \\GB\\YOLO\\IMG-20160419-WA0001.jpg: 640x640 12 Persons, 1673.0ms\n",
      "Speed: 27.0ms preprocess, 1673.0ms inference, 3.0ms postprocess per image at shape (1, 3, 640, 640)\n",
      "Results saved to \u001b[1mruns\\detect\\predict2\u001b[0m\n"
     ]
    },
    {
     "data": {
      "text/plain": [
       "[ultralytics.engine.results.Results object with attributes:\n",
       " \n",
       " boxes: ultralytics.engine.results.Boxes object\n",
       " keypoints: None\n",
       " masks: None\n",
       " names: {0: 'Person', 1: 'Car', 2: 'Motorbike', 3: 'Bus', 4: 'Truck'}\n",
       " obb: None\n",
       " orig_img: array([[[191, 226, 252],\n",
       "         [191, 226, 252],\n",
       "         [191, 226, 252],\n",
       "         ...,\n",
       "         [158, 199, 231],\n",
       "         [166, 205, 233],\n",
       "         [170, 210, 235]],\n",
       " \n",
       "        [[191, 226, 252],\n",
       "         [191, 226, 252],\n",
       "         [191, 226, 252],\n",
       "         ...,\n",
       "         [162, 201, 233],\n",
       "         [165, 204, 232],\n",
       "         [167, 207, 232]],\n",
       " \n",
       "        [[191, 225, 254],\n",
       "         [191, 225, 254],\n",
       "         [191, 225, 254],\n",
       "         ...,\n",
       "         [163, 200, 234],\n",
       "         [165, 204, 232],\n",
       "         [167, 204, 230]],\n",
       " \n",
       "        ...,\n",
       " \n",
       "        [[173, 189, 178],\n",
       "         [177, 192, 184],\n",
       "         [188, 201, 193],\n",
       "         ...,\n",
       "         [114, 136, 171],\n",
       "         [117, 136, 169],\n",
       "         [121, 139, 170]],\n",
       " \n",
       "        [[131, 145, 133],\n",
       "         [134, 148, 136],\n",
       "         [139, 150, 140],\n",
       "         ...,\n",
       "         [111, 136, 168],\n",
       "         [116, 137, 168],\n",
       "         [119, 140, 168]],\n",
       " \n",
       "        [[ 15,  30,  16],\n",
       "         [ 16,  31,  17],\n",
       "         [ 24,  35,  25],\n",
       "         ...,\n",
       "         [111, 136, 168],\n",
       "         [117, 138, 169],\n",
       "         [120, 141, 169]]], dtype=uint8)\n",
       " orig_shape: (640, 640)\n",
       " path: 'd:\\\\рабочий стол\\\\GB\\\\YOLO\\\\IMG-20160419-WA0001.jpg'\n",
       " probs: None\n",
       " save_dir: 'runs\\\\detect\\\\predict2'\n",
       " speed: {'preprocess': 26.99875831604004, 'inference': 1672.9936599731445, 'postprocess': 2.9993057250976562}]"
      ]
     },
     "execution_count": 28,
     "metadata": {},
     "output_type": "execute_result"
    }
   ],
   "source": [
    "model.predict('IMG-20160419-WA0001.jpg', save=True)"
   ]
  },
  {
   "cell_type": "code",
   "execution_count": 29,
   "metadata": {},
   "outputs": [
    {
     "name": "stdout",
     "output_type": "stream",
     "text": [
      "\n",
      "image 1/1 d:\\ \\GB\\YOLO\\IMG-20160419-WA0001.jpg: 640x640 12 Persons, 1482.0ms\n",
      "Speed: 14.0ms preprocess, 1482.0ms inference, 3.0ms postprocess per image at shape (1, 3, 640, 640)\n",
      "Results saved to \u001b[1mruns\\detect\\predict2\u001b[0m\n"
     ]
    },
    {
     "data": {
      "text/plain": [
       "[ultralytics.engine.results.Results object with attributes:\n",
       " \n",
       " boxes: ultralytics.engine.results.Boxes object\n",
       " keypoints: None\n",
       " masks: None\n",
       " names: {0: 'Person', 1: 'Car', 2: 'Motorbike', 3: 'Bus', 4: 'Truck'}\n",
       " obb: None\n",
       " orig_img: array([[[191, 226, 252],\n",
       "         [191, 226, 252],\n",
       "         [191, 226, 252],\n",
       "         ...,\n",
       "         [158, 199, 231],\n",
       "         [166, 205, 233],\n",
       "         [170, 210, 235]],\n",
       " \n",
       "        [[191, 226, 252],\n",
       "         [191, 226, 252],\n",
       "         [191, 226, 252],\n",
       "         ...,\n",
       "         [162, 201, 233],\n",
       "         [165, 204, 232],\n",
       "         [167, 207, 232]],\n",
       " \n",
       "        [[191, 225, 254],\n",
       "         [191, 225, 254],\n",
       "         [191, 225, 254],\n",
       "         ...,\n",
       "         [163, 200, 234],\n",
       "         [165, 204, 232],\n",
       "         [167, 204, 230]],\n",
       " \n",
       "        ...,\n",
       " \n",
       "        [[173, 189, 178],\n",
       "         [177, 192, 184],\n",
       "         [188, 201, 193],\n",
       "         ...,\n",
       "         [114, 136, 171],\n",
       "         [117, 136, 169],\n",
       "         [121, 139, 170]],\n",
       " \n",
       "        [[131, 145, 133],\n",
       "         [134, 148, 136],\n",
       "         [139, 150, 140],\n",
       "         ...,\n",
       "         [111, 136, 168],\n",
       "         [116, 137, 168],\n",
       "         [119, 140, 168]],\n",
       " \n",
       "        [[ 15,  30,  16],\n",
       "         [ 16,  31,  17],\n",
       "         [ 24,  35,  25],\n",
       "         ...,\n",
       "         [111, 136, 168],\n",
       "         [117, 138, 169],\n",
       "         [120, 141, 169]]], dtype=uint8)\n",
       " orig_shape: (640, 640)\n",
       " path: 'd:\\\\рабочий стол\\\\GB\\\\YOLO\\\\IMG-20160419-WA0001.jpg'\n",
       " probs: None\n",
       " save_dir: 'runs\\\\detect\\\\predict2'\n",
       " speed: {'preprocess': 14.019489288330078, 'inference': 1481.9796085357666, 'postprocess': 2.9990673065185547}]"
      ]
     },
     "execution_count": 29,
     "metadata": {},
     "output_type": "execute_result"
    }
   ],
   "source": [
    "model.predict('IMG-20160419-WA0001.jpg', save=True)"
   ]
  },
  {
   "cell_type": "code",
   "execution_count": 30,
   "metadata": {},
   "outputs": [
    {
     "name": "stdout",
     "output_type": "stream",
     "text": [
      "\n",
      "image 1/1 d:\\ \\GB\\YOLO\\ .jpg: 448x640 4 Cars, 1318.0ms\n",
      "Speed: 10.0ms preprocess, 1318.0ms inference, 2.0ms postprocess per image at shape (1, 3, 448, 640)\n",
      "Results saved to \u001b[1mruns\\detect\\predict2\u001b[0m\n"
     ]
    },
    {
     "data": {
      "text/plain": [
       "[ultralytics.engine.results.Results object with attributes:\n",
       " \n",
       " boxes: ultralytics.engine.results.Boxes object\n",
       " keypoints: None\n",
       " masks: None\n",
       " names: {0: 'Person', 1: 'Car', 2: 'Motorbike', 3: 'Bus', 4: 'Truck'}\n",
       " obb: None\n",
       " orig_img: array([[[ 48,  27,   5],\n",
       "         [ 48,  27,   5],\n",
       "         [ 48,  27,   5],\n",
       "         ...,\n",
       "         [149, 139, 122],\n",
       "         [149, 139, 122],\n",
       "         [149, 139, 122]],\n",
       " \n",
       "        [[ 46,  25,   3],\n",
       "         [ 46,  25,   3],\n",
       "         [ 46,  25,   3],\n",
       "         ...,\n",
       "         [150, 140, 123],\n",
       "         [150, 140, 123],\n",
       "         [150, 140, 123]],\n",
       " \n",
       "        [[ 44,  24,   0],\n",
       "         [ 44,  24,   0],\n",
       "         [ 44,  24,   0],\n",
       "         ...,\n",
       "         [152, 142, 125],\n",
       "         [152, 142, 125],\n",
       "         [152, 142, 125]],\n",
       " \n",
       "        ...,\n",
       " \n",
       "        [[ 26,  40,  28],\n",
       "         [ 15,  29,  17],\n",
       "         [ 16,  26,  14],\n",
       "         ...,\n",
       "         [147, 149, 157],\n",
       "         [147, 149, 157],\n",
       "         [148, 150, 158]],\n",
       " \n",
       "        [[ 24,  36,  24],\n",
       "         [ 21,  33,  21],\n",
       "         [ 19,  29,  17],\n",
       "         ...,\n",
       "         [158, 160, 168],\n",
       "         [159, 161, 169],\n",
       "         [159, 161, 169]],\n",
       " \n",
       "        [[ 23,  33,  21],\n",
       "         [ 26,  36,  24],\n",
       "         [ 26,  36,  24],\n",
       "         ...,\n",
       "         [135, 137, 145],\n",
       "         [135, 137, 145],\n",
       "         [135, 137, 145]]], dtype=uint8)\n",
       " orig_shape: (183, 275)\n",
       " path: 'd:\\\\рабочий стол\\\\GB\\\\YOLO\\\\Без названия.jpg'\n",
       " probs: None\n",
       " save_dir: 'runs\\\\detect\\\\predict2'\n",
       " speed: {'preprocess': 10.028839111328125, 'inference': 1317.9640769958496, 'postprocess': 2.0003318786621094}]"
      ]
     },
     "execution_count": 30,
     "metadata": {},
     "output_type": "execute_result"
    }
   ],
   "source": [
    "model.predict('Без названия.jpg', save=True)"
   ]
  },
  {
   "cell_type": "code",
   "execution_count": 1,
   "metadata": {},
   "outputs": [],
   "source": [
    "def detect_objects(image_path):\n",
    "    # Загружаем изображение\n",
    "    img = Image.open(image_path)\n",
    "\n",
    "    # Проводим детекцию объектов на изображении\n",
    "    results = model(img)\n",
    "\n",
    "    # Выводим результаты\n",
    "    results.show()"
   ]
  },
  {
   "cell_type": "code",
   "execution_count": 2,
   "metadata": {},
   "outputs": [],
   "source": [
    "def detect_objects_webcam():\n",
    "    # Open the webcam\n",
    "    cap = cv2.VideoCapture(0)\n",
    "\n",
    "    # Load the YOLOv5 model\n",
    "    model = YOLO('runs\\\\detect\\\\train\\\\weights\\\\best.pt')\n",
    "\n",
    "    while True:\n",
    "        # Read a frame from the webcam\n",
    "        ret, frame = cap.read()\n",
    "\n",
    "        # Perform object detection on the frame\n",
    "        results = model(frame)\n",
    "\n",
    "        # Extract the first element of the results list\n",
    "        results = results[0]\n",
    "\n",
    "        # Display the results\n",
    "        results.show()\n",
    "\n",
    "        # Exit the loop if the user presses the 'q' key\n",
    "        if cv2.waitKey(1) & 0xFF == ord('q'):\n",
    "            break\n",
    "\n",
    "    # Release the webcam and destroy all windows\n",
    "    cap.release()\n",
    "    cv2.destroyAllWindows()"
   ]
  },
  {
   "cell_type": "code",
   "execution_count": 18,
   "metadata": {},
   "outputs": [],
   "source": [
    "def on_webcam_button_click(change):\n",
    "    detect_objects_webcam()"
   ]
  },
  {
   "cell_type": "code",
   "execution_count": null,
   "metadata": {},
   "outputs": [],
   "source": [
    "# Создаем виджеты\n",
    "image_upload = widgets.FileUpload(accept='image/*', description='Upload Image')\n",
    "webcam_button = widgets.Button(description='Detect Objects from Webcam')"
   ]
  },
  {
   "cell_type": "code",
   "execution_count": 20,
   "metadata": {},
   "outputs": [],
   "source": [
    "# Назначаем обработчики событий\n",
    "image_upload.observe(on_image_upload, names='value')\n",
    "webcam_button.on_click(on_webcam_button_click)"
   ]
  },
  {
   "cell_type": "code",
   "execution_count": 21,
   "metadata": {},
   "outputs": [
    {
     "data": {
      "application/vnd.jupyter.widget-view+json": {
       "model_id": "55f90bd8173d48bf9900aede9caf5afd",
       "version_major": 2,
       "version_minor": 0
      },
      "text/plain": [
       "FileUpload(value=(), accept='image/*', description='Upload Image')"
      ]
     },
     "metadata": {},
     "output_type": "display_data"
    },
    {
     "data": {
      "application/vnd.jupyter.widget-view+json": {
       "model_id": "8889e68a53e34530bc55cd997bd6a447",
       "version_major": 2,
       "version_minor": 0
      },
      "text/plain": [
       "Button(description='Detect Objects from Webcam', style=ButtonStyle())"
      ]
     },
     "metadata": {},
     "output_type": "display_data"
    }
   ],
   "source": [
    "# Отображаем виджеты\n",
    "display(image_upload)\n",
    "display(webcam_button)"
   ]
  }
 ],
 "metadata": {
  "kernelspec": {
   "display_name": "Python 3.11.2 64-bit",
   "language": "python",
   "name": "python3"
  },
  "language_info": {
   "codemirror_mode": {
    "name": "ipython",
    "version": 3
   },
   "file_extension": ".py",
   "mimetype": "text/x-python",
   "name": "python",
   "nbconvert_exporter": "python",
   "pygments_lexer": "ipython3",
   "version": "3.11.2"
  },
  "orig_nbformat": 4,
  "vscode": {
   "interpreter": {
    "hash": "1c629eccfdf8545529de563785dace1040dd62c38aa3fb6e09c82c51165828e0"
   }
  }
 },
 "nbformat": 4,
 "nbformat_minor": 2
}
